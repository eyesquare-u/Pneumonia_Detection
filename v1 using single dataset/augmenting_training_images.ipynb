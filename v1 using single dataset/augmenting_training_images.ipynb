{
 "cells": [
  {
   "cell_type": "code",
   "execution_count": 6,
   "id": "inside-executive",
   "metadata": {},
   "outputs": [],
   "source": [
    "import torchvision\n",
    "import torchvision.transforms as transforms\n",
    "import cv2\n",
    "import numpy as np\n",
    "import pandas as pd\n",
    "import matplotlib.pyplot as plt\n",
    "from PIL import Image\n",
    "import os"
   ]
  },
  {
   "cell_type": "code",
   "execution_count": 7,
   "id": "informative-jefferson",
   "metadata": {},
   "outputs": [],
   "source": [
    "path_augmented = './train/NORMAL'\n",
    "path_save = './augmented/NORMAL'\n",
    "transformations = {0: transforms.Compose([transforms.ToPILImage(),transforms.RandomHorizontalFlip(p=1)]),\n",
    "                   1: transforms.Compose([transforms.ToPILImage(),transforms.RandomVerticalFlip(p=1)])}"
   ]
  },
  {
   "cell_type": "code",
   "execution_count": 8,
   "id": "deadly-orlando",
   "metadata": {},
   "outputs": [],
   "source": [
    "for item in os.listdir(path_augmented):\n",
    "    \n",
    "    img = cv2.imread(os.path.join(path_augmented,item))\n",
    "    #cv2.imwrite(os.path.join(path_save,item),img)\n",
    "    \n",
    "    img = cv2.cvtColor(img, cv2.COLOR_BGR2RGB)\n",
    "    \n",
    "    for i in range(2):\n",
    "        aug_img = transformations[i](img)\n",
    "        aug_img.save(os.path.join(path_save,item.split('.')[0]+chr(97+i)+'.jpeg'))"
   ]
  },
  {
   "cell_type": "code",
   "execution_count": 67,
   "id": "elder-boston",
   "metadata": {},
   "outputs": [],
   "source": [
    "cv2.imshow('win',img)\n",
    "cv2.waitKey(0)\n",
    "cv2.destroyAllWindows()"
   ]
  },
  {
   "cell_type": "code",
   "execution_count": null,
   "id": "incredible-elder",
   "metadata": {},
   "outputs": [],
   "source": []
  }
 ],
 "metadata": {
  "kernelspec": {
   "display_name": "Python 3",
   "language": "python",
   "name": "python3"
  },
  "language_info": {
   "codemirror_mode": {
    "name": "ipython",
    "version": 3
   },
   "file_extension": ".py",
   "mimetype": "text/x-python",
   "name": "python",
   "nbconvert_exporter": "python",
   "pygments_lexer": "ipython3",
   "version": "3.8.8"
  }
 },
 "nbformat": 4,
 "nbformat_minor": 5
}
